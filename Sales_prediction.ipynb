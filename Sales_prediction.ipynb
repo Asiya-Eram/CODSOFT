{
  "nbformat": 4,
  "nbformat_minor": 0,
  "metadata": {
    "colab": {
      "provenance": [],
      "authorship_tag": "ABX9TyM096YJbZ+54q2jYx4920AN",
      "include_colab_link": true
    },
    "kernelspec": {
      "name": "python3",
      "display_name": "Python 3"
    },
    "language_info": {
      "name": "python"
    }
  },
  "cells": [
    {
      "cell_type": "markdown",
      "metadata": {
        "id": "view-in-github",
        "colab_type": "text"
      },
      "source": [
        "<a href=\"https://colab.research.google.com/github/Asiya-Eram/CODSOFT/blob/main/Sales_prediction.ipynb\" target=\"_parent\"><img src=\"https://colab.research.google.com/assets/colab-badge.svg\" alt=\"Open In Colab\"/></a>"
      ]
    },
    {
      "cell_type": "code",
      "execution_count": 2,
      "metadata": {
        "id": "tbu9vNQI_4fW"
      },
      "outputs": [],
      "source": [
        "import numpy as np\n",
        "import pandas as pd\n",
        "import warnings\n",
        "warnings.filterwarnings('ignore')\n",
        "import matplotlib.pyplot as plt\n",
        "import seaborn as sns\n",
        "from sklearn.preprocessing import StandardScaler\n",
        "from sklearn.linear_model import LinearRegression\n",
        "from sklearn.model_selection import GridSearchCV\n",
        "from sklearn.metrics import mean_squared_error, r2_score\n",
        "import pickle\n",
        "\n",
        "\n",
        "%matplotlib inline"
      ]
    },
    {
      "cell_type": "code",
      "source": [
        "df = pd.read_csv('/content/advertising.csv')"
      ],
      "metadata": {
        "id": "RZI_7gMaBbPI"
      },
      "execution_count": 3,
      "outputs": []
    },
    {
      "cell_type": "code",
      "source": [
        "df"
      ],
      "metadata": {
        "id": "QaUtcC_PBbLq"
      },
      "execution_count": null,
      "outputs": []
    },
    {
      "cell_type": "code",
      "source": [
        "df.info()"
      ],
      "metadata": {
        "id": "_9Y39obUBbJG"
      },
      "execution_count": null,
      "outputs": []
    },
    {
      "cell_type": "code",
      "source": [
        "df.describe()"
      ],
      "metadata": {
        "id": "189tCm-YBbGo"
      },
      "execution_count": null,
      "outputs": []
    },
    {
      "cell_type": "code",
      "source": [
        "df.columns"
      ],
      "metadata": {
        "id": "0_xAsNHvBbDm"
      },
      "execution_count": null,
      "outputs": []
    },
    {
      "cell_type": "code",
      "source": [
        "df.duplicated().sum()"
      ],
      "metadata": {
        "id": "HWCKr13IBbA9"
      },
      "execution_count": null,
      "outputs": []
    },
    {
      "cell_type": "code",
      "source": [
        "df.nunique()"
      ],
      "metadata": {
        "id": "pPNHVuC1Ba-L"
      },
      "execution_count": null,
      "outputs": []
    },
    {
      "cell_type": "code",
      "source": [
        "df.isnull().sum()"
      ],
      "metadata": {
        "id": "q_AliR-xBa7h"
      },
      "execution_count": null,
      "outputs": []
    },
    {
      "cell_type": "code",
      "source": [
        "plt.figure(figsize=(10,6))\n",
        "sns.regplot(x='TV',y='Sales',data=df)\n",
        "plt.title('Sales v/s Tv')\n",
        "plt.show()"
      ],
      "metadata": {
        "id": "OhLIXevLBa4a"
      },
      "execution_count": null,
      "outputs": []
    },
    {
      "cell_type": "code",
      "source": [
        "plt.figure(figsize=(10,6))\n",
        "sns.regplot(x='Radio',y='Sales',data=df)\n",
        "plt.title('Sales v/s Radio')\n",
        "plt.show()"
      ],
      "metadata": {
        "id": "q_a-8Tk_Ba16"
      },
      "execution_count": null,
      "outputs": []
    },
    {
      "cell_type": "code",
      "source": [
        "plt.figure(figsize=(10,6))\n",
        "sns.regplot(x='Newspaper',y='Sales',data=df)\n",
        "plt.title('Sales v/s Newspaper')\n",
        "plt.show()"
      ],
      "metadata": {
        "id": "L9Qsj2n-BazQ"
      },
      "execution_count": null,
      "outputs": []
    },
    {
      "cell_type": "code",
      "source": [
        "plt.figure(figsize=(10,6))\n",
        "sns.pairplot(df, x_vars=['TV','Radio','Newspaper'],y_vars='Sales')\n",
        "plt.show()"
      ],
      "metadata": {
        "id": "7Cu_mRidBat0"
      },
      "execution_count": null,
      "outputs": []
    },
    {
      "cell_type": "code",
      "source": [
        "sns.histplot(df['Sales'],bins=25,kde=True)\n",
        "plt.title('Distribution of Sales')\n",
        "plt.xlabel('Sales')\n",
        "plt.ylabel('Frequency')\n",
        "plt.show()"
      ],
      "metadata": {
        "id": "ojykJZd_BarJ"
      },
      "execution_count": null,
      "outputs": []
    },
    {
      "cell_type": "code",
      "source": [
        "from sklearn.model_selection import train_test_split\n",
        "from sklearn.feature_selection import mutual_info_regression"
      ],
      "metadata": {
        "id": "2fK5q8jUh5pz"
      },
      "execution_count": 19,
      "outputs": []
    },
    {
      "cell_type": "code",
      "source": [
        "X1=df.drop(columns='Sales',axis=1)\n",
        "Y1=df['Sales']\n",
        "X1_train, X1_test, Y1_train, Y1_test = train_test_split(X1, Y1, test_size=0.3)\n",
        "mutual_info=mutual_info_regression(X1_train,Y1_train)\n",
        "print(\"Mutual Information:\",mutual_info)\n",
        "mutual_info=pd.Series(mutual_info)\n",
        "mutual_info.index=X1_train.columns\n",
        "mutual_info.sort_values(ascending=False)\n",
        "mutual_info.sort_values(ascending=False).plot.bar(figsize=(10,6))"
      ],
      "metadata": {
        "id": "lB7ZIUGCBab6"
      },
      "execution_count": null,
      "outputs": []
    },
    {
      "cell_type": "code",
      "source": [
        "x=df[['TV','Radio']]\n",
        "y=df['Sales']\n",
        "X_train, X_test, Y_train, Y_test = train_test_split(x, y, test_size=0.3)"
      ],
      "metadata": {
        "id": "9NxvgqgIBaZk"
      },
      "execution_count": 22,
      "outputs": []
    },
    {
      "cell_type": "code",
      "source": [
        "scaler = StandardScaler()\n",
        "normalized_X_train = scaler.fit_transform(X_train)\n",
        "normalized_X_test = scaler.transform(X_test)"
      ],
      "metadata": {
        "id": "pwk3h64QBaW6"
      },
      "execution_count": 23,
      "outputs": []
    },
    {
      "cell_type": "code",
      "source": [
        "model = LinearRegression()\n",
        "model.fit(normalized_X_train, Y_train)"
      ],
      "metadata": {
        "id": "XIXhQ6UKhTby"
      },
      "execution_count": null,
      "outputs": []
    },
    {
      "cell_type": "code",
      "source": [
        "y_pred = model.predict(normalized_X_test)"
      ],
      "metadata": {
        "id": "cisrEu01hTYW"
      },
      "execution_count": 25,
      "outputs": []
    },
    {
      "cell_type": "code",
      "source": [
        "coefficients = model.coef_\n",
        "intercept = model.intercept_\n",
        "\n",
        "print('Coefficients:')\n",
        "print(f'TV: {coefficients[0]:.2f}')\n",
        "print(f'Radio: {coefficients[1]:.2f}')\n",
        "print(f'Intercept: {intercept:.2f}')"
      ],
      "metadata": {
        "id": "D7-G0V2MhTWg"
      },
      "execution_count": null,
      "outputs": []
    },
    {
      "cell_type": "code",
      "source": [
        "mse = mean_squared_error(Y_test, y_pred)\n",
        "r2 = r2_score(Y_test, y_pred)\n",
        "print(f'Mean Squared Error: {mse:.2f}')\n",
        "print(f'R^2 Score: {r2:.2f}')"
      ],
      "metadata": {
        "id": "B4uGeewihTT4"
      },
      "execution_count": null,
      "outputs": []
    }
  ]
}